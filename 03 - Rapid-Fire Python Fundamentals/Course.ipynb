{
 "cells": [
  {
   "cell_type": "markdown",
   "metadata": {},
   "source": [
    "## Data Types\n",
    "\n",
    "- Every orbject in pytong will have a type"
   ]
  },
  {
   "cell_type": "code",
   "execution_count": null,
   "metadata": {},
   "outputs": [],
   "source": [
    "#fundamental data types\n",
    "int, float, bool, str, tuple, list, set, dict"
   ]
  },
  {
   "cell_type": "markdown",
   "metadata": {},
   "source": [
    "- there's also a None(NoneType)"
   ]
  },
  {
   "cell_type": "code",
   "execution_count": null,
   "metadata": {},
   "outputs": [],
   "source": [
    "None"
   ]
  },
  {
   "cell_type": "markdown",
   "metadata": {},
   "source": [
    "- the type will determine what properties and behavious apply to that object\n",
    "- we could check type using type() built-in function"
   ]
  },
  {
   "cell_type": "code",
   "execution_count": null,
   "metadata": {},
   "outputs": [],
   "source": [
    "2\n",
    "type(2)\n",
    "type('Andy')\n",
    "print('Hey there!')"
   ]
  },
  {
   "cell_type": "markdown",
   "metadata": {},
   "source": [
    "### Variables\n",
    "\n",
    "- variables hold values and have a name\n",
    "- in other words, they bind a value to a name"
   ]
  },
  {
   "cell_type": "markdown",
   "metadata": {},
   "source": [
    "### Variable naming\n",
    "- variables should be descriptive(same for functions)\n",
    "- case-sensitive\n",
    "- variable naming is lowercase_word(also known as snake_case)\n",
    "- python keywords cannot be used as variables"
   ]
  },
  {
   "cell_type": "code",
   "execution_count": null,
   "metadata": {},
   "outputs": [],
   "source": [
    "user_name = 'Andy'\n",
    "print(user_name)\n",
    "\n",
    "user_age = 63\n",
    "print(user_age)"
   ]
  },
  {
   "cell_type": "markdown",
   "metadata": {},
   "source": [
    "### Variable assingment\n",
    "- single vartiable assignment with \"=\"\n",
    "- mutiple variable assignment below"
   ]
  },
  {
   "cell_type": "code",
   "execution_count": null,
   "metadata": {},
   "outputs": [],
   "source": [
    "user, user_age, user_gender = 'Andy', 39, 'Male'\n",
    "print(user_age)"
   ]
  },
  {
   "cell_type": "markdown",
   "metadata": {},
   "source": [
    "### Arithmetic and augmented assignment operators\n",
    "\n",
    "- basic arithmetics with +, -, *, /\n",
    "- augmented assignment operators"
   ]
  },
  {
   "cell_type": "code",
   "execution_count": null,
   "metadata": {},
   "outputs": [],
   "source": [
    "num1 = 39\n",
    "num2 = 40\n",
    "\n",
    "num1 + num2"
   ]
  },
  {
   "cell_type": "code",
   "execution_count": null,
   "metadata": {},
   "outputs": [],
   "source": [
    "counter = 0\n",
    "# task: increment counter by 1\n",
    "counter = counter + 1\n",
    "counter += 1\n",
    "#above two are identical\n",
    "counter"
   ]
  },
  {
   "cell_type": "code",
   "execution_count": null,
   "metadata": {},
   "outputs": [],
   "source": [
    "# 2 cubeb\n",
    "2 ** 3\n",
    "\n",
    "#modulo operator - returns remainder of the number // checks if number is even or odd\n",
    "5 % 3 #odd\n",
    "4 % 2 #even\n"
   ]
  },
  {
   "cell_type": "code",
   "execution_count": null,
   "metadata": {},
   "outputs": [],
   "source": [
    "#PEMDAS\n",
    "#Parenthesis\n",
    "#Exponentiation\n",
    "#Multiplication\n",
    "#Division\n",
    "#Additiona\n",
    "#Subtraction\n",
    "\n",
    "(2 - 1) * 4 ** 2\n",
    "1 * 4 ** 2\n",
    "1 * 16\n",
    "16"
   ]
  },
  {
   "cell_type": "markdown",
   "metadata": {},
   "source": [
    "### Ints and Floats\n",
    "\n",
    "#### Ints\n",
    "- whole(complete)numbers with no fractional value\n",
    "- useful for counting"
   ]
  },
  {
   "cell_type": "markdown",
   "metadata": {},
   "source": [
    "#### Floats\n",
    "- Real numbers with a fractional value"
   ]
  },
  {
   "cell_type": "code",
   "execution_count": null,
   "metadata": {},
   "outputs": [],
   "source": [
    "type(4/10)\n",
    "\n",
    "#2.0 is a float too\n",
    "\n",
    "type(2.0)\n",
    "type(2.) # is valid and too"
   ]
  },
  {
   "cell_type": "markdown",
   "metadata": {},
   "source": [
    "#### Ints and floats\n",
    "- operations between ints and floats will alaways produce floats\n",
    "- we can convert floats to ints and vice versa\n",
    "- floats take up more memory than ints"
   ]
  },
  {
   "cell_type": "code",
   "execution_count": null,
   "metadata": {},
   "outputs": [],
   "source": [
    "type(3.0)\n",
    "int(3.0) # 3\n",
    "float(100)\n",
    "int(3.1416) # 3\n",
    "int(3.99999) # 3 as well"
   ]
  },
  {
   "cell_type": "markdown",
   "metadata": {},
   "source": [
    "#### Floats are approximations\n",
    "- computers store floating-point numbers as binary(base 2) fraction\n",
    "- this may produce unexpected results with certain real numbers that do not have a precise binary representation\n"
   ]
  },
  {
   "cell_type": "code",
   "execution_count": null,
   "metadata": {},
   "outputs": [],
   "source": [
    "0.1 # 1/10, base 10\n",
    "print(0.1 + 0.2)"
   ]
  },
  {
   "cell_type": "markdown",
   "metadata": {},
   "source": [
    "### Booleans and comparison operators\n",
    "- a bool represents the notion of True or False(capital case in Python)"
   ]
  },
  {
   "cell_type": "code",
   "execution_count": null,
   "metadata": {},
   "outputs": [],
   "source": [
    "True\n",
    "type(True)"
   ]
  },
  {
   "cell_type": "markdown",
   "metadata": {},
   "source": [
    "- we could generate bools using comparison operators\n",
    "- single equals is assignment, double equals is comparison"
   ]
  },
  {
   "cell_type": "code",
   "execution_count": null,
   "metadata": {},
   "outputs": [],
   "source": [
    "age = 43\n",
    "retirement = 64\n",
    "\n",
    "age >= retirement"
   ]
  },
  {
   "cell_type": "markdown",
   "metadata": {},
   "source": [
    "- ... and combine them using logical operators"
   ]
  },
  {
   "cell_type": "code",
   "execution_count": null,
   "metadata": {},
   "outputs": [],
   "source": [
    "True or True"
   ]
  },
  {
   "cell_type": "code",
   "execution_count": null,
   "metadata": {},
   "outputs": [],
   "source": [
    "True or False"
   ]
  },
  {
   "cell_type": "code",
   "execution_count": null,
   "metadata": {},
   "outputs": [],
   "source": [
    "True and False"
   ]
  },
  {
   "cell_type": "code",
   "execution_count": null,
   "metadata": {},
   "outputs": [],
   "source": [
    "False and False"
   ]
  },
  {
   "cell_type": "code",
   "execution_count": null,
   "metadata": {},
   "outputs": [],
   "source": [
    "not False"
   ]
  },
  {
   "cell_type": "code",
   "execution_count": null,
   "metadata": {},
   "outputs": [],
   "source": [
    "not True"
   ]
  },
  {
   "cell_type": "markdown",
   "metadata": {},
   "source": [
    "### Strings\n",
    "- it is an ordered sequence of characters that could include any letters, numbers, symbols, punctuations, etc"
   ]
  },
  {
   "cell_type": "code",
   "execution_count": null,
   "metadata": {},
   "outputs": [],
   "source": [
    "type('Andy')"
   ]
  },
  {
   "cell_type": "markdown",
   "metadata": {},
   "source": [
    "- we create string using '' or \"\""
   ]
  },
  {
   "cell_type": "markdown",
   "metadata": {},
   "source": [
    "- what about strings with '' or \"\" in them?"
   ]
  },
  {
   "cell_type": "code",
   "execution_count": null,
   "metadata": {},
   "outputs": [],
   "source": [
    "'Let\\'s code \"pandorably\"'"
   ]
  },
  {
   "cell_type": "markdown",
   "metadata": {},
   "source": [
    "- there's also '''"
   ]
  },
  {
   "cell_type": "code",
   "execution_count": null,
   "metadata": {},
   "outputs": [],
   "source": [
    "print('''this is a multiline string\n",
    "\"this is the second\"\n",
    "'this is the third'\n",
    "''')"
   ]
  },
  {
   "cell_type": "markdown",
   "metadata": {},
   "source": [
    "- strings can be combined with +"
   ]
  },
  {
   "cell_type": "code",
   "execution_count": null,
   "metadata": {},
   "outputs": [],
   "source": [
    "str1 = \"One\"\n",
    "str2 = \"Two\"\n",
    "\n",
    "print(str1 + \" \" + str2)"
   ]
  },
  {
   "cell_type": "markdown",
   "metadata": {},
   "source": [
    "- strings can be repeated with * (polymorphemism) means different things in different contexts"
   ]
  },
  {
   "cell_type": "code",
   "execution_count": null,
   "metadata": {},
   "outputs": [],
   "source": [
    "print(str1 * 3)"
   ]
  },
  {
   "cell_type": "markdown",
   "metadata": {},
   "source": [
    "### Methods"
   ]
  },
  {
   "cell_type": "markdown",
   "metadata": {},
   "source": [
    "- methods are simialr to functions, eg, type()"
   ]
  },
  {
   "cell_type": "markdown",
   "metadata": {},
   "source": [
    "- ... but they are always attached to a type of object"
   ]
  },
  {
   "cell_type": "markdown",
   "metadata": {},
   "source": [
    "- different data types have different methods defined and available"
   ]
  },
  {
   "cell_type": "markdown",
   "metadata": {},
   "source": [
    "- some methods available on strings\n",
    "> .upper(),.lower(),.isalpha(),.startsWith()"
   ]
  },
  {
   "cell_type": "code",
   "execution_count": null,
   "metadata": {},
   "outputs": [],
   "source": [
    "'Python'.startswith('P')"
   ]
  },
  {
   "cell_type": "markdown",
   "metadata": {},
   "source": [
    "- BONUS: value substitution with .format()"
   ]
  },
  {
   "cell_type": "code",
   "execution_count": null,
   "metadata": {},
   "outputs": [],
   "source": [
    "\"We will be using python v{}\".format(3.9)"
   ]
  },
  {
   "cell_type": "code",
   "execution_count": null,
   "metadata": {},
   "outputs": [],
   "source": [
    "\"We will be using python v{py_v}, pandas v{pa_v}\".format(py_v=3.9, pa_v=1.2)"
   ]
  },
  {
   "cell_type": "markdown",
   "metadata": {},
   "source": [
    "# Containers"
   ]
  },
  {
   "cell_type": "markdown",
   "metadata": {},
   "source": [
    "## Lists"
   ]
  },
  {
   "cell_type": "markdown",
   "metadata": {},
   "source": [
    "- Lists are ordered sequences of elements"
   ]
  },
  {
   "cell_type": "code",
   "execution_count": null,
   "metadata": {},
   "outputs": [],
   "source": [
    "students = [\"Jonas\", \"Emma\"]\n",
    "print(students[1])"
   ]
  },
  {
   "cell_type": "markdown",
   "metadata": {},
   "source": [
    "- denoted with []"
   ]
  },
  {
   "cell_type": "markdown",
   "metadata": {},
   "source": [
    "- each element has an index, the first starting at 0(zero based indexing) - common across programming across other languages. Array in JS. Thinking of distance could help here"
   ]
  },
  {
   "cell_type": "markdown",
   "metadata": {},
   "source": [
    "- we select items from lists using the respective index"
   ]
  },
  {
   "cell_type": "markdown",
   "metadata": {},
   "source": [
    "- ... or sequence of indices(list slicing)"
   ]
  },
  {
   "cell_type": "code",
   "execution_count": null,
   "metadata": {},
   "outputs": [],
   "source": [
    "print(students[-2])"
   ]
  },
  {
   "cell_type": "markdown",
   "metadata": {},
   "source": [
    "- some slicing rules\n",
    "> lower bound is inclusive, upper bound is exclusive\n",
    "\n",
    "> we could also select from the end using a negative indexing system\n",
    "\n",
    "> if we get out of bounds, python throws index error"
   ]
  },
  {
   "cell_type": "markdown",
   "metadata": {},
   "source": [
    "## Lists vs. Strings"
   ]
  },
  {
   "cell_type": "markdown",
   "metadata": {},
   "source": [
    "- strings are sequences of characters, whereas"
   ]
  },
  {
   "cell_type": "code",
   "execution_count": null,
   "metadata": {},
   "outputs": [],
   "source": [
    "py = 'python'"
   ]
  },
  {
   "cell_type": "markdown",
   "metadata": {},
   "source": [
    "- lists are sequences of any object"
   ]
  },
  {
   "cell_type": "code",
   "execution_count": null,
   "metadata": {},
   "outputs": [],
   "source": [
    "print(students)"
   ]
  },
  {
   "cell_type": "markdown",
   "metadata": {},
   "source": [
    "- both lists and strings are ordered"
   ]
  },
  {
   "cell_type": "code",
   "execution_count": null,
   "metadata": {},
   "outputs": [],
   "source": [
    "print(students[0])\n",
    "print(py[0])"
   ]
  },
  {
   "cell_type": "markdown",
   "metadata": {},
   "source": [
    "- lists are mutable; strings are immutable\n",
    "- once strings are created they can't be changed. Still can be re-assigned"
   ]
  },
  {
   "cell_type": "code",
   "execution_count": null,
   "metadata": {},
   "outputs": [],
   "source": [
    "students[1] = 'Brie'\n",
    "print(students)"
   ]
  },
  {
   "cell_type": "markdown",
   "metadata": {},
   "source": [
    "## List methods and functions"
   ]
  },
  {
   "cell_type": "markdown",
   "metadata": {},
   "source": [
    "- built in functions: max, len, min, sorted"
   ]
  },
  {
   "cell_type": "code",
   "execution_count": 3,
   "metadata": {},
   "outputs": [
    {
     "name": "stdout",
     "output_type": "stream",
     "text": [
      "39\n",
      "12\n",
      "4\n",
      "[12, 12.1, 23, 39]\n",
      "[39, 23, 12.1, 12]\n"
     ]
    }
   ],
   "source": [
    "ages = [23, 39, 12, 12.1]\n",
    "print(max(ages))\n",
    "print(min(ages))\n",
    "print(len(ages))\n",
    "print(sorted(ages))\n",
    "print(sorted(ages, reverse=True))"
   ]
  },
  {
   "cell_type": "markdown",
   "metadata": {},
   "source": [
    "- methods\n",
    "> append() to add items to a list\n",
    "\n",
    "> pop() to remove by index\n",
    "\n",
    "> remove() to remove by item\n",
    "\n",
    "> str.join(list) to join all elements of a list into a string"
   ]
  },
  {
   "cell_type": "code",
   "execution_count": 8,
   "metadata": {},
   "outputs": [
    {
     "name": "stdout",
     "output_type": "stream",
     "text": [
      "[23, 39, 12, 12.1, 24]\n"
     ]
    },
    {
     "data": {
      "text/plain": [
       "24"
      ]
     },
     "execution_count": 8,
     "metadata": {},
     "output_type": "execute_result"
    }
   ],
   "source": [
    "ages.append(24)\n",
    "print(ages)\n",
    "ages.pop(-1) #removes and returns an element\n"
   ]
  },
  {
   "cell_type": "markdown",
   "metadata": {},
   "source": [
    "## Tuples"
   ]
  },
  {
   "cell_type": "markdown",
   "metadata": {},
   "source": [
    "- Tuples are ordered and immutable containers of elements"
   ]
  },
  {
   "cell_type": "markdown",
   "metadata": {},
   "source": [
    "- typically used to store values that are closely related together"
   ]
  },
  {
   "cell_type": "markdown",
   "metadata": {},
   "source": [
    "- denoted using parentheses...though optional"
   ]
  },
  {
   "cell_type": "code",
   "execution_count": 9,
   "metadata": {},
   "outputs": [
    {
     "data": {
      "text/plain": [
       "tuple"
      ]
     },
     "execution_count": 9,
     "metadata": {},
     "output_type": "execute_result"
    }
   ],
   "source": [
    "u_data = ('Ronald', 59)\n",
    "type(u_data)"
   ]
  },
  {
   "cell_type": "markdown",
   "metadata": {},
   "source": [
    "- each element has a zero-based index(just like lists)"
   ]
  },
  {
   "cell_type": "code",
   "execution_count": 10,
   "metadata": {},
   "outputs": [
    {
     "name": "stdout",
     "output_type": "stream",
     "text": [
      "Ronald\n"
     ]
    }
   ],
   "source": [
    "print(u_data[0])"
   ]
  },
  {
   "cell_type": "markdown",
   "metadata": {},
   "source": [
    "## Sets"
   ]
  },
  {
   "cell_type": "markdown",
   "metadata": {},
   "source": [
    "- unordered container of (only) unique values"
   ]
  },
  {
   "cell_type": "markdown",
   "metadata": {},
   "source": [
    "- constructed using {} and comma-separated elements"
   ]
  },
  {
   "cell_type": "code",
   "execution_count": 15,
   "metadata": {},
   "outputs": [
    {
     "name": "stdout",
     "output_type": "stream",
     "text": [
      "{'MA', 'PhD', 'BSc'}\n"
     ]
    }
   ],
   "source": [
    "degrees = {'BSc', 'MA', 'PhD'}\n",
    "type(degrees)\n",
    "degrees2 = {'BSc', 'MA', 'PhD', 'MA'}\n",
    "type(degrees2)\n",
    "print(degrees2)"
   ]
  },
  {
   "cell_type": "markdown",
   "metadata": {},
   "source": [
    "- .add() and .discard() to add and remove values"
   ]
  },
  {
   "cell_type": "code",
   "execution_count": 18,
   "metadata": {},
   "outputs": [
    {
     "name": "stdout",
     "output_type": "stream",
     "text": [
      "{'MA', 'PhD', 'BSc', 'Lol'}\n",
      "{'PhD', 'BSc', 'Lol'}\n"
     ]
    }
   ],
   "source": [
    "degrees.add('Lol')\n",
    "print(degrees)\n",
    "degrees.discard('MA')\n",
    "print(degrees)"
   ]
  },
  {
   "cell_type": "markdown",
   "metadata": {},
   "source": [
    "- .intersection(), difference(), and .union()"
   ]
  },
  {
   "cell_type": "code",
   "execution_count": 25,
   "metadata": {},
   "outputs": [
    {
     "name": "stdout",
     "output_type": "stream",
     "text": [
      "{'PhD', 'BSc'}\n",
      "{'Lol'}\n",
      "{'MA'}\n",
      "{'Lol', 'PhD', 'MA', 'BSc'}\n"
     ]
    }
   ],
   "source": [
    "print(degrees.intersection(degrees2))\n",
    "print(degrees.difference(degrees2))\n",
    "print(degrees2.difference(degrees))\n",
    "print(degrees.union(degrees2))"
   ]
  },
  {
   "cell_type": "markdown",
   "metadata": {},
   "source": [
    "- nice shortcut: remove all duplicate values from lists? use set()"
   ]
  },
  {
   "cell_type": "code",
   "execution_count": 26,
   "metadata": {},
   "outputs": [
    {
     "data": {
      "text/plain": [
       "{'BA', 'BSc', 'MA'}"
      ]
     },
     "execution_count": 26,
     "metadata": {},
     "output_type": "execute_result"
    }
   ],
   "source": [
    "highest_degree_earned = ['BA', 'BA', 'BSc', 'MA', 'MA']\n",
    "set(highest_degree_earned)"
   ]
  },
  {
   "cell_type": "markdown",
   "metadata": {},
   "source": [
    "## Dictionaries"
   ]
  },
  {
   "cell_type": "markdown",
   "metadata": {},
   "source": [
    "- dictionaries are mutable and unordered"
   ]
  },
  {
   "cell_type": "code",
   "execution_count": 27,
   "metadata": {},
   "outputs": [
    {
     "data": {
      "text/plain": [
       "dict"
      ]
     },
     "execution_count": 27,
     "metadata": {},
     "output_type": "execute_result"
    }
   ],
   "source": [
    "student_scores = {'Andrew': 94, \"Jessica\": 79, 'Brice': 96} # hasmap, hashtable or object in other programming languages\n",
    "type(student_scores)"
   ]
  },
  {
   "cell_type": "markdown",
   "metadata": {},
   "source": [
    "- they are built using {} key-value pairs"
   ]
  },
  {
   "cell_type": "markdown",
   "metadata": {},
   "source": [
    "- values are accessed using [] or with .get()"
   ]
  },
  {
   "cell_type": "code",
   "execution_count": 28,
   "metadata": {},
   "outputs": [
    {
     "data": {
      "text/plain": [
       "79"
      ]
     },
     "execution_count": 28,
     "metadata": {},
     "output_type": "execute_result"
    }
   ],
   "source": [
    "student_scores['Jessica']"
   ]
  },
  {
   "cell_type": "code",
   "execution_count": 30,
   "metadata": {},
   "outputs": [],
   "source": [
    "student_scores.get('Andy') # returns None and program continues if the key value pair is missing"
   ]
  },
  {
   "cell_type": "markdown",
   "metadata": {},
   "source": [
    "- adding and removing elements: dict[key] = value and dict.pop(key)"
   ]
  },
  {
   "cell_type": "code",
   "execution_count": 34,
   "metadata": {},
   "outputs": [
    {
     "name": "stdout",
     "output_type": "stream",
     "text": [
      "{'Andrew': 94, 'Jessica': 79, 'Brice': 96, 'Tom': 69}\n",
      "{'Andrew': 94, 'Jessica': 79, 'Tom': 69}\n"
     ]
    }
   ],
   "source": [
    "student_scores['Tom'] = 69\n",
    "print(student_scores)\n",
    "student_scores.pop('Brice')\n",
    "print(student_scores)"
   ]
  },
  {
   "cell_type": "markdown",
   "metadata": {},
   "source": [
    "### Dictionary key and values"
   ]
  },
  {
   "cell_type": "markdown",
   "metadata": {},
   "source": [
    "- the values could be any other values or container object, even other dictionaries"
   ]
  },
  {
   "cell_type": "code",
   "execution_count": 35,
   "metadata": {},
   "outputs": [
    {
     "data": {
      "text/plain": [
       "dict"
      ]
     },
     "execution_count": 35,
     "metadata": {},
     "output_type": "execute_result"
    }
   ],
   "source": [
    "student_scores2 = {\n",
    "  'Andrew': 94,\n",
    "  'Jessica': [96, 93],\n",
    "  'Tom': {\n",
    "    'bio': 94,\n",
    "    'chem': 84,\n",
    "    'phys': 79\n",
    "  }\n",
    "}\n",
    "\n",
    "type(student_scores2)"
   ]
  },
  {
   "cell_type": "markdown",
   "metadata": {},
   "source": [
    "- the keys could be any immutable data type - can't add a List as a key here, because a list is immutable and not hashable"
   ]
  },
  {
   "cell_type": "code",
   "execution_count": 41,
   "metadata": {},
   "outputs": [
    {
     "name": "stdout",
     "output_type": "stream",
     "text": [
      "{'Andrew': 94, 7: [96, 93], ('Tom', 'One'): {'bio': 94, 'chem': 84, 'phys': 79}}\n"
     ]
    }
   ],
   "source": [
    "student_scores3 = {\n",
    "  'Andrew': 94,\n",
    "  7: [96, 93],\n",
    "  ('Tom', 'One'): {\n",
    "    'bio': 94,\n",
    "    'chem': 84,\n",
    "    'phys': 79\n",
    "  }\n",
    "}\n",
    "type(student_scores3)\n",
    "print(student_scores3)"
   ]
  },
  {
   "cell_type": "markdown",
   "metadata": {},
   "source": [
    "- .keys(), .values(), .items()"
   ]
  },
  {
   "cell_type": "code",
   "execution_count": 40,
   "metadata": {},
   "outputs": [
    {
     "data": {
      "text/plain": [
       "dict_items([('Andrew', 94), ('Jessica', 79), ('Tom', 69)])"
      ]
     },
     "execution_count": 40,
     "metadata": {},
     "output_type": "execute_result"
    }
   ],
   "source": [
    "student_scores.keys() # different data type\n",
    "student_scores.values() # different data type\n",
    "student_scores.items() # collection of key value pairs as tuples. different data type"
   ]
  },
  {
   "cell_type": "markdown",
   "metadata": {},
   "source": [
    "- efficiently test membership  with the in and not in operators"
   ]
  },
  {
   "cell_type": "code",
   "execution_count": 46,
   "metadata": {},
   "outputs": [
    {
     "name": "stdout",
     "output_type": "stream",
     "text": [
      "False\n",
      "True\n",
      "True\n",
      "False\n"
     ]
    },
    {
     "data": {
      "text/plain": [
       "True"
      ]
     },
     "execution_count": 46,
     "metadata": {},
     "output_type": "execute_result"
    }
   ],
   "source": [
    "print('Brandon' in student_scores)\n",
    "print('Andrew' in student_scores)\n",
    "\n",
    "print('Brandon' not in student_scores)\n",
    "print('Andrew' not in student_scores)\n",
    "\n",
    "his_name = 'Andrew Dogood'\n",
    "'rew' in his_name"
   ]
  },
  {
   "cell_type": "markdown",
   "metadata": {},
   "source": [
    "# Control flow"
   ]
  },
  {
   "cell_type": "markdown",
   "metadata": {},
   "source": [
    "## Controlling flow: if, else, and elif"
   ]
  },
  {
   "cell_type": "code",
   "execution_count": 48,
   "metadata": {},
   "outputs": [],
   "source": [
    "passed = []\n",
    "failed = []\n",
    "\n",
    "student_1 = {'name': 'Jess', 'exam_score': 72, 'attendance': True}\n",
    "student_2 = {'name': 'Briana', 'exam_score': 90, 'attendance': True}\n",
    "student_3 = {'name': 'Jay', 'exam_score': 64, 'attendance': False}\n",
    "\n",
    "# above everything is executed top to bottom"
   ]
  },
  {
   "cell_type": "markdown",
   "metadata": {},
   "source": [
    "- if statements allow us to control the flow of a program"
   ]
  },
  {
   "cell_type": "code",
   "execution_count": 51,
   "metadata": {},
   "outputs": [
    {
     "data": {
      "text/plain": [
       "[{'name': 'Jess', 'exam_score': 72, 'attendance': True},\n",
       " {'name': 'Jess', 'exam_score': 72, 'attendance': True},\n",
       " {'name': 'Jess', 'exam_score': 72, 'attendance': True}]"
      ]
     },
     "execution_count": 51,
     "metadata": {},
     "output_type": "execute_result"
    }
   ],
   "source": [
    "if student_1.get('exam_score') > 70:\n",
    "  passed.append(student_1)\n",
    "\n",
    "passed"
   ]
  },
  {
   "cell_type": "markdown",
   "metadata": {},
   "source": [
    "- else and elif keywords"
   ]
  },
  {
   "cell_type": "code",
   "execution_count": 52,
   "metadata": {},
   "outputs": [
    {
     "data": {
      "text/plain": [
       "[{'name': 'Jess', 'exam_score': 72, 'attendance': True},\n",
       " {'name': 'Jess', 'exam_score': 72, 'attendance': True},\n",
       " {'name': 'Jess', 'exam_score': 72, 'attendance': True},\n",
       " {'name': 'Briana', 'exam_score': 90, 'attendance': True}]"
      ]
     },
     "execution_count": 52,
     "metadata": {},
     "output_type": "execute_result"
    }
   ],
   "source": [
    "if student_2.get('exam_score') > 70:\n",
    "  passed.append(student_2)\n",
    "else:\n",
    "  failed.append(student_2)\n",
    "\n",
    "passed"
   ]
  },
  {
   "cell_type": "markdown",
   "metadata": {},
   "source": [
    "- combining boolean expressions with and, or"
   ]
  },
  {
   "cell_type": "markdown",
   "metadata": {},
   "source": [
    "- pitfall: using assigment '=' operator instead of the comparison '=='"
   ]
  }
 ],
 "metadata": {
  "kernelspec": {
   "display_name": "base",
   "language": "python",
   "name": "python3"
  },
  "language_info": {
   "codemirror_mode": {
    "name": "ipython",
    "version": 3
   },
   "file_extension": ".py",
   "mimetype": "text/x-python",
   "name": "python",
   "nbconvert_exporter": "python",
   "pygments_lexer": "ipython3",
   "version": "3.9.13"
  }
 },
 "nbformat": 4,
 "nbformat_minor": 2
}
